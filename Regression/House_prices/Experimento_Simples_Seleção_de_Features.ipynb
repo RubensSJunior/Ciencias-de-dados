{
  "nbformat": 4,
  "nbformat_minor": 0,
  "metadata": {
    "colab": {
      "name": "Experimento Simples Seleção de Features.ipynb",
      "provenance": []
    },
    "kernelspec": {
      "name": "python3",
      "display_name": "Python 3"
    },
    "language_info": {
      "name": "python"
    }
  },
  "cells": [
    {
      "cell_type": "code",
      "metadata": {
        "id": "GybtnQ1y2vLa"
      },
      "source": [
        "import pandas as pd\n",
        "import matplotlib \n",
        "import seaborn as sns\n",
        "from sklearn import preprocessing\n",
        "from sklearn.linear_model import LinearRegression\n",
        "from sklearn.model_selection import train_test_split\n",
        "from sklearn.metrics import mean_absolute_error"
      ],
      "execution_count": 13,
      "outputs": []
    },
    {
      "cell_type": "code",
      "metadata": {
        "id": "TkgwayUX29ve"
      },
      "source": [
        "df_houses = pd.read_csv(\"/content/drive/MyDrive/Ciências de dados rep/Regression/House_prices/houses_to_rent_v2.csv\")"
      ],
      "execution_count": 2,
      "outputs": []
    },
    {
      "cell_type": "code",
      "metadata": {
        "colab": {
          "base_uri": "https://localhost:8080/",
          "height": 369
        },
        "id": "Kl8kQSxB4G6f",
        "outputId": "a353adb2-eb57-48e5-a440-bcf871ca47ec"
      },
      "source": [
        "sns.heatmap(df_houses.corr())"
      ],
      "execution_count": 3,
      "outputs": [
        {
          "output_type": "execute_result",
          "data": {
            "text/plain": [
              "<matplotlib.axes._subplots.AxesSubplot at 0x7fdc7e5e6a90>"
            ]
          },
          "metadata": {},
          "execution_count": 3
        },
        {
          "output_type": "display_data",
          "data": {
            "image/png": "[encoded data removed]",
            "text/plain": [
              "<Figure size 432x288 with 2 Axes>"
            ]
          },
          "metadata": {
            "needs_background": "light"
          }
        }
      ]
    },
    {
      "cell_type": "code",
      "metadata": {
        "id": "-uj_IoYr4IAO"
      },
      "source": [
        "le_city = preprocessing.LabelEncoder()\n",
        "df_houses[\"city_le\"] = le_city.fit_transform(df_houses[\"city\"])\n",
        "le_animal = preprocessing.LabelEncoder()\n",
        "df_houses[\"animal_le\"] = le_animal.fit_transform(df_houses[\"animal\"])\n",
        "le_furniture = preprocessing.LabelEncoder()\n",
        "df_houses[\"furniture_le\"] = le_furniture.fit_transform(df_houses[\"furniture\"])\n"
      ],
      "execution_count": 4,
      "outputs": []
    },
    {
      "cell_type": "code",
      "metadata": {
        "id": "i1xZ7Ezj5two",
        "colab": {
          "base_uri": "https://localhost:8080/"
        },
        "outputId": "f3414728-e12d-4529-e28b-29f6e65999ed"
      },
      "source": [
        "df_houses_le = df_houses[['city_le', 'area', 'rooms', 'bathroom', 'parking spaces', 'floor',\n",
        "       'animal_le', 'furniture_le', 'hoa (R$)', 'rent amount (R$)',\n",
        "       'property tax (R$)', 'fire insurance (R$)', 'total (R$)']]\n",
        "\n",
        "df_houses_le.loc[df_houses_le[\"floor\"] == \"-\",\"floor\"] = 0\n",
        "df_houses_le[\"floor\"] = pd.to_numeric(df_houses_le[\"floor\"])"
      ],
      "execution_count": 5,
      "outputs": [
        {
          "output_type": "stream",
          "name": "stderr",
          "text": [
            "/usr/local/lib/python3.7/dist-packages/pandas/core/indexing.py:1763: SettingWithCopyWarning: \n",
            "A value is trying to be set on a copy of a slice from a DataFrame.\n",
            "Try using .loc[row_indexer,col_indexer] = value instead\n",
            "\n",
            "See the caveats in the documentation: https://pandas.pydata.org/pandas-docs/stable/user_guide/indexing.html#returning-a-view-versus-a-copy\n",
            "  isetter(loc, value)\n",
            "/usr/local/lib/python3.7/dist-packages/ipykernel_launcher.py:6: SettingWithCopyWarning: \n",
            "A value is trying to be set on a copy of a slice from a DataFrame.\n",
            "Try using .loc[row_indexer,col_indexer] = value instead\n",
            "\n",
            "See the caveats in the documentation: https://pandas.pydata.org/pandas-docs/stable/user_guide/indexing.html#returning-a-view-versus-a-copy\n",
            "  \n"
          ]
        }
      ]
    },
    {
      "cell_type": "code",
      "metadata": {
        "colab": {
          "base_uri": "https://localhost:8080/",
          "height": 483
        },
        "id": "uOZSuHIU_58o",
        "outputId": "288afc80-3eb5-4ec2-8cf3-f5f3bb69d0eb"
      },
      "source": [
        "df_houses_le.corr().sort_values(by=\"total (R$)\")"
      ],
      "execution_count": 55,
      "outputs": [
        {
          "output_type": "execute_result",
          "data": {
            "text/html": [
              "<div>\n",
              "<style scoped>\n",
              "    .dataframe tbody tr th:only-of-type {\n",
              "        vertical-align: middle;\n",
              "    }\n",
              "\n",
              "    .dataframe tbody tr th {\n",
              "        vertical-align: top;\n",
              "    }\n",
              "\n",
              "    .dataframe thead th {\n",
              "        text-align: right;\n",
              "    }\n",
              "</style>\n",
              "<table border=\"1\" class=\"dataframe\">\n",
              "  <thead>\n",
              "    <tr style=\"text-align: right;\">\n",
              "      <th></th>\n",
              "      <th>city_le</th>\n",
              "      <th>area</th>\n",
              "      <th>rooms</th>\n",
              "      <th>bathroom</th>\n",
              "      <th>parking spaces</th>\n",
              "      <th>floor</th>\n",
              "      <th>animal_le</th>\n",
              "      <th>furniture_le</th>\n",
              "      <th>hoa (R$)</th>\n",
              "      <th>rent amount (R$)</th>\n",
              "      <th>property tax (R$)</th>\n",
              "      <th>fire insurance (R$)</th>\n",
              "      <th>total (R$)</th>\n",
              "    </tr>\n",
              "  </thead>\n",
              "  <tbody>\n",
              "    <tr>\n",
              "      <th>furniture_le</th>\n",
              "      <td>-0.108821</td>\n",
              "      <td>-0.008175</td>\n",
              "      <td>0.080694</td>\n",
              "      <td>-0.017938</td>\n",
              "      <td>0.004720</td>\n",
              "      <td>-0.105994</td>\n",
              "      <td>-0.087972</td>\n",
              "      <td>1.000000</td>\n",
              "      <td>-0.003413</td>\n",
              "      <td>-0.164235</td>\n",
              "      <td>-0.000985</td>\n",
              "      <td>-0.141768</td>\n",
              "      <td>-0.037781</td>\n",
              "    </tr>\n",
              "    <tr>\n",
              "      <th>animal_le</th>\n",
              "      <td>0.014299</td>\n",
              "      <td>-0.039626</td>\n",
              "      <td>-0.172190</td>\n",
              "      <td>-0.118255</td>\n",
              "      <td>-0.127432</td>\n",
              "      <td>0.021851</td>\n",
              "      <td>1.000000</td>\n",
              "      <td>-0.087972</td>\n",
              "      <td>0.022008</td>\n",
              "      <td>-0.067754</td>\n",
              "      <td>0.003006</td>\n",
              "      <td>-0.079152</td>\n",
              "      <td>0.007143</td>\n",
              "    </tr>\n",
              "    <tr>\n",
              "      <th>city_le</th>\n",
              "      <td>1.000000</td>\n",
              "      <td>-0.010785</td>\n",
              "      <td>-0.052523</td>\n",
              "      <td>0.084624</td>\n",
              "      <td>0.042645</td>\n",
              "      <td>0.114072</td>\n",
              "      <td>0.014299</td>\n",
              "      <td>-0.108821</td>\n",
              "      <td>-0.011029</td>\n",
              "      <td>0.188571</td>\n",
              "      <td>0.037493</td>\n",
              "      <td>0.148427</td>\n",
              "      <td>0.036058</td>\n",
              "    </tr>\n",
              "    <tr>\n",
              "      <th>floor</th>\n",
              "      <td>0.114072</td>\n",
              "      <td>-0.012724</td>\n",
              "      <td>-0.078687</td>\n",
              "      <td>0.004894</td>\n",
              "      <td>-0.020767</td>\n",
              "      <td>1.000000</td>\n",
              "      <td>0.021851</td>\n",
              "      <td>-0.105994</td>\n",
              "      <td>0.019872</td>\n",
              "      <td>0.073596</td>\n",
              "      <td>0.012626</td>\n",
              "      <td>0.013652</td>\n",
              "      <td>0.036431</td>\n",
              "    </tr>\n",
              "    <tr>\n",
              "      <th>area</th>\n",
              "      <td>-0.010785</td>\n",
              "      <td>1.000000</td>\n",
              "      <td>0.193796</td>\n",
              "      <td>0.226766</td>\n",
              "      <td>0.193983</td>\n",
              "      <td>-0.012724</td>\n",
              "      <td>-0.039626</td>\n",
              "      <td>-0.008175</td>\n",
              "      <td>0.006890</td>\n",
              "      <td>0.180742</td>\n",
              "      <td>0.039059</td>\n",
              "      <td>0.188078</td>\n",
              "      <td>0.051799</td>\n",
              "    </tr>\n",
              "    <tr>\n",
              "      <th>rooms</th>\n",
              "      <td>-0.052523</td>\n",
              "      <td>0.193796</td>\n",
              "      <td>1.000000</td>\n",
              "      <td>0.733763</td>\n",
              "      <td>0.617510</td>\n",
              "      <td>-0.078687</td>\n",
              "      <td>-0.172190</td>\n",
              "      <td>0.080694</td>\n",
              "      <td>0.007139</td>\n",
              "      <td>0.541758</td>\n",
              "      <td>0.075252</td>\n",
              "      <td>0.565148</td>\n",
              "      <td>0.134597</td>\n",
              "    </tr>\n",
              "    <tr>\n",
              "      <th>parking spaces</th>\n",
              "      <td>0.042645</td>\n",
              "      <td>0.193983</td>\n",
              "      <td>0.617510</td>\n",
              "      <td>0.697379</td>\n",
              "      <td>1.000000</td>\n",
              "      <td>-0.020767</td>\n",
              "      <td>-0.127432</td>\n",
              "      <td>0.004720</td>\n",
              "      <td>0.009321</td>\n",
              "      <td>0.578361</td>\n",
              "      <td>0.098378</td>\n",
              "      <td>0.597348</td>\n",
              "      <td>0.148684</td>\n",
              "    </tr>\n",
              "    <tr>\n",
              "      <th>bathroom</th>\n",
              "      <td>0.084624</td>\n",
              "      <td>0.226766</td>\n",
              "      <td>0.733763</td>\n",
              "      <td>1.000000</td>\n",
              "      <td>0.697379</td>\n",
              "      <td>0.004894</td>\n",
              "      <td>-0.118255</td>\n",
              "      <td>-0.017938</td>\n",
              "      <td>0.050271</td>\n",
              "      <td>0.668504</td>\n",
              "      <td>0.109253</td>\n",
              "      <td>0.676399</td>\n",
              "      <td>0.208339</td>\n",
              "    </tr>\n",
              "    <tr>\n",
              "      <th>property tax (R$)</th>\n",
              "      <td>0.037493</td>\n",
              "      <td>0.039059</td>\n",
              "      <td>0.075252</td>\n",
              "      <td>0.109253</td>\n",
              "      <td>0.098378</td>\n",
              "      <td>0.012626</td>\n",
              "      <td>0.003006</td>\n",
              "      <td>-0.000985</td>\n",
              "      <td>0.007627</td>\n",
              "      <td>0.107884</td>\n",
              "      <td>1.000000</td>\n",
              "      <td>0.105661</td>\n",
              "      <td>0.218344</td>\n",
              "    </tr>\n",
              "    <tr>\n",
              "      <th>fire insurance (R$)</th>\n",
              "      <td>0.148427</td>\n",
              "      <td>0.188078</td>\n",
              "      <td>0.565148</td>\n",
              "      <td>0.676399</td>\n",
              "      <td>0.597348</td>\n",
              "      <td>0.013652</td>\n",
              "      <td>-0.079152</td>\n",
              "      <td>-0.141768</td>\n",
              "      <td>0.029535</td>\n",
              "      <td>0.987343</td>\n",
              "      <td>0.105661</td>\n",
              "      <td>1.000000</td>\n",
              "      <td>0.254911</td>\n",
              "    </tr>\n",
              "    <tr>\n",
              "      <th>rent amount (R$)</th>\n",
              "      <td>0.188571</td>\n",
              "      <td>0.180742</td>\n",
              "      <td>0.541758</td>\n",
              "      <td>0.668504</td>\n",
              "      <td>0.578361</td>\n",
              "      <td>0.073596</td>\n",
              "      <td>-0.067754</td>\n",
              "      <td>-0.164235</td>\n",
              "      <td>0.036490</td>\n",
              "      <td>1.000000</td>\n",
              "      <td>0.107884</td>\n",
              "      <td>0.987343</td>\n",
              "      <td>0.264490</td>\n",
              "    </tr>\n",
              "    <tr>\n",
              "      <th>hoa (R$)</th>\n",
              "      <td>-0.011029</td>\n",
              "      <td>0.006890</td>\n",
              "      <td>0.007139</td>\n",
              "      <td>0.050271</td>\n",
              "      <td>0.009321</td>\n",
              "      <td>0.019872</td>\n",
              "      <td>0.022008</td>\n",
              "      <td>-0.003413</td>\n",
              "      <td>1.000000</td>\n",
              "      <td>0.036490</td>\n",
              "      <td>0.007627</td>\n",
              "      <td>0.029535</td>\n",
              "      <td>0.955024</td>\n",
              "    </tr>\n",
              "    <tr>\n",
              "      <th>total (R$)</th>\n",
              "      <td>0.036058</td>\n",
              "      <td>0.051799</td>\n",
              "      <td>0.134597</td>\n",
              "      <td>0.208339</td>\n",
              "      <td>0.148684</td>\n",
              "      <td>0.036431</td>\n",
              "      <td>0.007143</td>\n",
              "      <td>-0.037781</td>\n",
              "      <td>0.955024</td>\n",
              "      <td>0.264490</td>\n",
              "      <td>0.218344</td>\n",
              "      <td>0.254911</td>\n",
              "      <td>1.000000</td>\n",
              "    </tr>\n",
              "  </tbody>\n",
              "</table>\n",
              "</div>"
            ],
            "text/plain": [
              "                      city_le      area  ...  fire insurance (R$)  total (R$)\n",
              "furniture_le        -0.108821 -0.008175  ...            -0.141768   -0.037781\n",
              "animal_le            0.014299 -0.039626  ...            -0.079152    0.007143\n",
              "city_le              1.000000 -0.010785  ...             0.148427    0.036058\n",
              "floor                0.114072 -0.012724  ...             0.013652    0.036431\n",
              "area                -0.010785  1.000000  ...             0.188078    0.051799\n",
              "rooms               -0.052523  0.193796  ...             0.565148    0.134597\n",
              "parking spaces       0.042645  0.193983  ...             0.597348    0.148684\n",
              "bathroom             0.084624  0.226766  ...             0.676399    0.208339\n",
              "property tax (R$)    0.037493  0.039059  ...             0.105661    0.218344\n",
              "fire insurance (R$)  0.148427  0.188078  ...             1.000000    0.254911\n",
              "rent amount (R$)     0.188571  0.180742  ...             0.987343    0.264490\n",
              "hoa (R$)            -0.011029  0.006890  ...             0.029535    0.955024\n",
              "total (R$)           0.036058  0.051799  ...             0.254911    1.000000\n",
              "\n",
              "[13 rows x 13 columns]"
            ]
          },
          "metadata": {},
          "execution_count": 55
        }
      ]
    },
    {
      "cell_type": "code",
      "metadata": {
        "id": "9DTxbbJB7Cws"
      },
      "source": [
        "df_houses_complete_x = df_houses_le[['city_le', 'area', 'rooms', 'bathroom', 'parking spaces', 'floor',\n",
        "       'animal_le', 'furniture_le']]\n",
        "df_houses_complete_y = df_houses_le[[ 'total (R$)']]\n",
        "x_train_complete, x_test_complete, y_train_complete, y_test_complete = train_test_split(df_houses_complete_x, df_houses_complete_y, test_size = 0.30,random_state = 0)\n",
        "\n",
        "\n",
        "df_houses_clean_x = df_houses_le[['rooms', 'bathroom', 'parking spaces','furniture_le']]\n",
        "df_houses_clean_y = df_houses_le[[ 'total (R$)']]\n",
        "x_train_clean, x_test_clean, y_train_clean, y_test_clean = train_test_split(df_houses_clean_x, df_houses_clean_y, test_size = 0.30,random_state = 0)\n"
      ],
      "execution_count": 67,
      "outputs": []
    },
    {
      "cell_type": "code",
      "metadata": {
        "id": "HEwvABxU6NV8"
      },
      "source": [
        "modelo_completo = LinearRegression()\n",
        "modelo_completo.fit(x_train_complete,y_train_complete)\n",
        "result_completo = modelo_completo.predict(x_test_complete)\n",
        "mean_complete  = mean_absolute_error(result_completo, y_test_complete)"
      ],
      "execution_count": 79,
      "outputs": []
    },
    {
      "cell_type": "code",
      "metadata": {
        "id": "SOA8UFaxAt7J"
      },
      "source": [
        "modelo_clean = LinearRegression()\n",
        "modelo_clean.fit(x_train_clean,y_train_clean)\n",
        "result_clean = modelo_clean.predict(x_test_clean)\n",
        "mean_clean  = mean_absolute_error(result_clean, y_test_clean)"
      ],
      "execution_count": 80,
      "outputs": []
    },
    {
      "cell_type": "code",
      "metadata": {
        "colab": {
          "base_uri": "https://localhost:8080/"
        },
        "id": "Mz2rQtnI9foj",
        "outputId": "2732e278-969b-4265-91cf-a853ec6471a2"
      },
      "source": [
        "print(\"=\"*43+\" Modelo Completo \"+\"=\"*43)\n",
        "print(\"==\"*10+\"RMSE\"+\"==\"*9+\"Media  Previsão\"+\"==\"*9+\"Media Real\"+\"==\"*9)\n",
        "print(\"==\"*9+\"{:.2f}\".format(mean_complete)+\"==\"*10+\"{:.2f}\".format(result_completo.mean())+\"==\"*12+\"{:.2f}\".format(y_test_complete.mean()[0])+\"==\"*10)\n",
        "print(\"==\"*51+\"=\")"
      ],
      "execution_count": 93,
      "outputs": [
        {
          "output_type": "stream",
          "name": "stdout",
          "text": [
            "=========================================== Modelo Completo ===========================================\n",
            "====================RMSE==================Media  Previsão==================Media Real==================\n",
            "==================2651.44====================6029.84========================5376.38====================\n",
            "=======================================================================================================\n"
          ]
        }
      ]
    },
    {
      "cell_type": "code",
      "metadata": {
        "colab": {
          "base_uri": "https://localhost:8080/"
        },
        "id": "QNr5WmFp901c",
        "outputId": "8bdf1dfb-3175-4925-f5ce-fafa334d5681"
      },
      "source": [
        "print(\"=\"*41+\" Modelo Clean \"+\"=\"*42)\n",
        "print(\"==\"*9+\"RMSE\"+\"==\"*9+\"Media Previsão\"+\"==\"*9+\"Media Real\"+\"==\"*9)\n",
        "print(\"==\"*8+\"{:.2f}\".format(mean_clean)+\"==\"*10+\"{:.2f}\".format(result_clean.mean())+\"==\"*11+\"{:.2f}\".format(y_test_clean.mean()[0])+\"==\"*11)\n",
        "print(\"==\"*50)"
      ],
      "execution_count": 95,
      "outputs": [
        {
          "output_type": "stream",
          "name": "stdout",
          "text": [
            "========================================= Modelo Clean ==========================================\n",
            "==================RMSE==================Media Previsão==================Media Real==================\n",
            "================2449.98====================5733.20======================5376.38======================\n",
            "====================================================================================================\n"
          ]
        }
      ]
    },
    {
      "cell_type": "code",
      "metadata": {
        "id": "bho4g4BRCe8v"
      },
      "source": [
        ""
      ],
      "execution_count": null,
      "outputs": []
    }
  ]
}