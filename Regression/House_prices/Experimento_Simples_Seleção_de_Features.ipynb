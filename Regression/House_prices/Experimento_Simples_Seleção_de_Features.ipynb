{
 "cells": [
  {
   "cell_type": "markdown",
   "metadata": {},
   "source": [
    "# Import de bibliotecas"
   ]
  },
  {
   "cell_type": "code",
   "execution_count": 9,
   "metadata": {},
   "outputs": [],
   "source": [
    "import pandas as pd\n",
    "import matplotlib \n",
    "import seaborn as sns\n",
    "from sklearn import preprocessing\n",
    "from sklearn.linear_model import LinearRegression\n",
    "from sklearn.model_selection import train_test_split\n",
    "from sklearn.metrics import mean_absolute_error"
   ]
  },
  {
   "cell_type": "markdown",
   "metadata": {},
   "source": [
    "# Import de dados"
   ]
  },
  {
   "cell_type": "code",
   "execution_count": 10,
   "metadata": {
    "id": "TkgwayUX29ve"
   },
   "outputs": [
    {
     "data": {
      "text/html": [
       "<div>\n",
       "<style scoped>\n",
       "    .dataframe tbody tr th:only-of-type {\n",
       "        vertical-align: middle;\n",
       "    }\n",
       "\n",
       "    .dataframe tbody tr th {\n",
       "        vertical-align: top;\n",
       "    }\n",
       "\n",
       "    .dataframe thead th {\n",
       "        text-align: right;\n",
       "    }\n",
       "</style>\n",
       "<table border=\"1\" class=\"dataframe\">\n",
       "  <thead>\n",
       "    <tr style=\"text-align: right;\">\n",
       "      <th></th>\n",
       "      <th>city</th>\n",
       "      <th>area</th>\n",
       "      <th>rooms</th>\n",
       "      <th>bathroom</th>\n",
       "      <th>parking spaces</th>\n",
       "      <th>floor</th>\n",
       "      <th>animal</th>\n",
       "      <th>furniture</th>\n",
       "      <th>hoa (R$)</th>\n",
       "      <th>rent amount (R$)</th>\n",
       "      <th>property tax (R$)</th>\n",
       "      <th>fire insurance (R$)</th>\n",
       "      <th>total (R$)</th>\n",
       "    </tr>\n",
       "  </thead>\n",
       "  <tbody>\n",
       "    <tr>\n",
       "      <th>1536</th>\n",
       "      <td>São Paulo</td>\n",
       "      <td>50</td>\n",
       "      <td>1</td>\n",
       "      <td>1</td>\n",
       "      <td>0</td>\n",
       "      <td>3</td>\n",
       "      <td>acept</td>\n",
       "      <td>not furnished</td>\n",
       "      <td>400</td>\n",
       "      <td>1500</td>\n",
       "      <td>59</td>\n",
       "      <td>20</td>\n",
       "      <td>1979</td>\n",
       "    </tr>\n",
       "    <tr>\n",
       "      <th>4964</th>\n",
       "      <td>São Paulo</td>\n",
       "      <td>31</td>\n",
       "      <td>1</td>\n",
       "      <td>1</td>\n",
       "      <td>0</td>\n",
       "      <td>6</td>\n",
       "      <td>acept</td>\n",
       "      <td>not furnished</td>\n",
       "      <td>200</td>\n",
       "      <td>2614</td>\n",
       "      <td>84</td>\n",
       "      <td>34</td>\n",
       "      <td>2932</td>\n",
       "    </tr>\n",
       "    <tr>\n",
       "      <th>1558</th>\n",
       "      <td>Porto Alegre</td>\n",
       "      <td>35</td>\n",
       "      <td>1</td>\n",
       "      <td>1</td>\n",
       "      <td>0</td>\n",
       "      <td>3</td>\n",
       "      <td>acept</td>\n",
       "      <td>furnished</td>\n",
       "      <td>200</td>\n",
       "      <td>880</td>\n",
       "      <td>15</td>\n",
       "      <td>13</td>\n",
       "      <td>1108</td>\n",
       "    </tr>\n",
       "  </tbody>\n",
       "</table>\n",
       "</div>"
      ],
      "text/plain": [
       "              city  area  rooms  bathroom  parking spaces floor animal  \\\n",
       "1536     São Paulo    50      1         1               0     3  acept   \n",
       "4964     São Paulo    31      1         1               0     6  acept   \n",
       "1558  Porto Alegre    35      1         1               0     3  acept   \n",
       "\n",
       "          furniture  hoa (R$)  rent amount (R$)  property tax (R$)  \\\n",
       "1536  not furnished       400              1500                 59   \n",
       "4964  not furnished       200              2614                 84   \n",
       "1558      furnished       200               880                 15   \n",
       "\n",
       "      fire insurance (R$)  total (R$)  \n",
       "1536                   20        1979  \n",
       "4964                   34        2932  \n",
       "1558                   13        1108  "
      ]
     },
     "execution_count": 10,
     "metadata": {},
     "output_type": "execute_result"
    }
   ],
   "source": [
    "df_houses = pd.read_csv(\"houses_to_rent_v2.csv\")\n",
    "df_houses.sample(3)"
   ]
  },
  {
   "cell_type": "markdown",
   "metadata": {},
   "source": [
    "# Criação de labels para variaveis categoricas"
   ]
  },
  {
   "cell_type": "code",
   "execution_count": 11,
   "metadata": {
    "id": "-uj_IoYr4IAO"
   },
   "outputs": [
    {
     "name": "stderr",
     "output_type": "stream",
     "text": [
      "d:\\Ciencias de Dados\\Projetos\\Concluidos\\Ciencias-de-dados\\venv\\lib\\site-packages\\pandas\\core\\indexing.py:1817: SettingWithCopyWarning: \n",
      "A value is trying to be set on a copy of a slice from a DataFrame.\n",
      "Try using .loc[row_indexer,col_indexer] = value instead\n",
      "\n",
      "See the caveats in the documentation: https://pandas.pydata.org/pandas-docs/stable/user_guide/indexing.html#returning-a-view-versus-a-copy\n",
      "  self._setitem_single_column(loc, value, pi)\n",
      "C:\\Users\\ruben\\AppData\\Local\\Temp/ipykernel_11368/3674954472.py:12: SettingWithCopyWarning: \n",
      "A value is trying to be set on a copy of a slice from a DataFrame.\n",
      "Try using .loc[row_indexer,col_indexer] = value instead\n",
      "\n",
      "See the caveats in the documentation: https://pandas.pydata.org/pandas-docs/stable/user_guide/indexing.html#returning-a-view-versus-a-copy\n",
      "  df_houses_le[\"floor\"] = pd.to_numeric(df_houses_le[\"floor\"])\n"
     ]
    },
    {
     "data": {
      "text/html": [
       "<div>\n",
       "<style scoped>\n",
       "    .dataframe tbody tr th:only-of-type {\n",
       "        vertical-align: middle;\n",
       "    }\n",
       "\n",
       "    .dataframe tbody tr th {\n",
       "        vertical-align: top;\n",
       "    }\n",
       "\n",
       "    .dataframe thead th {\n",
       "        text-align: right;\n",
       "    }\n",
       "</style>\n",
       "<table border=\"1\" class=\"dataframe\">\n",
       "  <thead>\n",
       "    <tr style=\"text-align: right;\">\n",
       "      <th></th>\n",
       "      <th>city_le</th>\n",
       "      <th>area</th>\n",
       "      <th>rooms</th>\n",
       "      <th>bathroom</th>\n",
       "      <th>parking spaces</th>\n",
       "      <th>floor</th>\n",
       "      <th>animal_le</th>\n",
       "      <th>furniture_le</th>\n",
       "      <th>hoa (R$)</th>\n",
       "      <th>rent amount (R$)</th>\n",
       "      <th>property tax (R$)</th>\n",
       "      <th>fire insurance (R$)</th>\n",
       "      <th>total (R$)</th>\n",
       "    </tr>\n",
       "  </thead>\n",
       "  <tbody>\n",
       "    <tr>\n",
       "      <th>6859</th>\n",
       "      <td>4</td>\n",
       "      <td>40</td>\n",
       "      <td>1</td>\n",
       "      <td>1</td>\n",
       "      <td>1</td>\n",
       "      <td>3</td>\n",
       "      <td>0</td>\n",
       "      <td>0</td>\n",
       "      <td>820</td>\n",
       "      <td>3179</td>\n",
       "      <td>0</td>\n",
       "      <td>41</td>\n",
       "      <td>4040</td>\n",
       "    </tr>\n",
       "    <tr>\n",
       "      <th>4541</th>\n",
       "      <td>4</td>\n",
       "      <td>400</td>\n",
       "      <td>6</td>\n",
       "      <td>6</td>\n",
       "      <td>8</td>\n",
       "      <td>15</td>\n",
       "      <td>0</td>\n",
       "      <td>0</td>\n",
       "      <td>3000</td>\n",
       "      <td>4335</td>\n",
       "      <td>1750</td>\n",
       "      <td>55</td>\n",
       "      <td>9140</td>\n",
       "    </tr>\n",
       "    <tr>\n",
       "      <th>9288</th>\n",
       "      <td>2</td>\n",
       "      <td>27</td>\n",
       "      <td>1</td>\n",
       "      <td>1</td>\n",
       "      <td>0</td>\n",
       "      <td>2</td>\n",
       "      <td>0</td>\n",
       "      <td>1</td>\n",
       "      <td>100</td>\n",
       "      <td>960</td>\n",
       "      <td>75</td>\n",
       "      <td>15</td>\n",
       "      <td>1150</td>\n",
       "    </tr>\n",
       "  </tbody>\n",
       "</table>\n",
       "</div>"
      ],
      "text/plain": [
       "      city_le  area  rooms  bathroom  parking spaces  floor  animal_le  \\\n",
       "6859        4    40      1         1               1      3          0   \n",
       "4541        4   400      6         6               8     15          0   \n",
       "9288        2    27      1         1               0      2          0   \n",
       "\n",
       "      furniture_le  hoa (R$)  rent amount (R$)  property tax (R$)  \\\n",
       "6859             0       820              3179                  0   \n",
       "4541             0      3000              4335               1750   \n",
       "9288             1       100               960                 75   \n",
       "\n",
       "      fire insurance (R$)  total (R$)  \n",
       "6859                   41        4040  \n",
       "4541                   55        9140  \n",
       "9288                   15        1150  "
      ]
     },
     "execution_count": 11,
     "metadata": {},
     "output_type": "execute_result"
    }
   ],
   "source": [
    "le_city = preprocessing.LabelEncoder()\n",
    "df_houses[\"city_le\"] = le_city.fit_transform(df_houses[\"city\"])\n",
    "le_animal = preprocessing.LabelEncoder()\n",
    "df_houses[\"animal_le\"] = le_animal.fit_transform(df_houses[\"animal\"])\n",
    "le_furniture = preprocessing.LabelEncoder()\n",
    "df_houses[\"furniture_le\"] = le_furniture.fit_transform(df_houses[\"furniture\"])\n",
    "df_houses_le = df_houses[['city_le', 'area', 'rooms', 'bathroom', 'parking spaces', 'floor',\n",
    "       'animal_le', 'furniture_le', 'hoa (R$)', 'rent amount (R$)',\n",
    "       'property tax (R$)', 'fire insurance (R$)', 'total (R$)']]\n",
    "\n",
    "df_houses_le.loc[df_houses_le[\"floor\"] == \"-\",\"floor\"] = 0\n",
    "df_houses_le[\"floor\"] = pd.to_numeric(df_houses_le[\"floor\"])\n",
    "df_houses_le.sample(3)"
   ]
  },
  {
   "cell_type": "markdown",
   "metadata": {},
   "source": [
    "# Separação de datasets por correlação"
   ]
  },
  {
   "cell_type": "code",
   "execution_count": 14,
   "metadata": {
    "id": "9DTxbbJB7Cws"
   },
   "outputs": [],
   "source": [
    "df_houses_complete_x = df_houses_le[['city_le', 'area', 'rooms', 'bathroom', 'parking spaces', 'floor',\n",
    "       'animal_le', 'furniture_le']]\n",
    "df_houses_complete_y = df_houses_le[[ 'total (R$)']]\n",
    "x_train_complete, x_test_complete, y_train_complete, y_test_complete = train_test_split(df_houses_complete_x, df_houses_complete_y, test_size = 0.30,random_state = 0)\n",
    "\n",
    "df_houses_clean_x = df_houses_le[['rooms', 'bathroom', 'parking spaces','furniture_le']]\n",
    "df_houses_clean_y = df_houses_le[[ 'total (R$)']]\n",
    "x_train_clean, x_test_clean, y_train_clean, y_test_clean = train_test_split(df_houses_clean_x, df_houses_clean_y, test_size = 0.30,random_state = 0)\n"
   ]
  },
  {
   "cell_type": "markdown",
   "metadata": {},
   "source": [
    "# Treino de modelo completo"
   ]
  },
  {
   "cell_type": "code",
   "execution_count": 15,
   "metadata": {
    "id": "HEwvABxU6NV8"
   },
   "outputs": [],
   "source": [
    "modelo_completo = LinearRegression()\n",
    "modelo_completo.fit(x_train_complete,y_train_complete)\n",
    "result_completo = modelo_completo.predict(x_test_complete)\n",
    "mean_complete  = mean_absolute_error(result_completo, y_test_complete)"
   ]
  },
  {
   "cell_type": "markdown",
   "metadata": {},
   "source": [
    "# Treino de modelo otimizado"
   ]
  },
  {
   "cell_type": "code",
   "execution_count": 16,
   "metadata": {
    "id": "SOA8UFaxAt7J"
   },
   "outputs": [],
   "source": [
    "modelo_clean = LinearRegression()\n",
    "modelo_clean.fit(x_train_clean,y_train_clean)\n",
    "result_clean = modelo_clean.predict(x_test_clean)\n",
    "mean_clean  = mean_absolute_error(result_clean, y_test_clean)"
   ]
  },
  {
   "cell_type": "markdown",
   "metadata": {},
   "source": [
    "# Resultado Modelo completo"
   ]
  },
  {
   "cell_type": "code",
   "execution_count": 40,
   "metadata": {
    "colab": {
     "base_uri": "https://localhost:8080/"
    },
    "id": "Mz2rQtnI9foj",
    "outputId": "2732e278-969b-4265-91cf-a853ec6471a2"
   },
   "outputs": [
    {
     "name": "stdout",
     "output_type": "stream",
     "text": [
      "=========================================== Modelo Completo ===========================================\n",
      "====================RMSE====================Media  Previsão================Media Real==================\n",
      "==================2651.44========================6029.84======================5376.38==================\n",
      "=======================================================================================================\n"
     ]
    }
   ],
   "source": [
    "print(\"=\"*43+\" Modelo Completo \"+\"=\"*43)\n",
    "print(\"==\"*10+\"RMSE\"+\"==\"*10+\"Media  Previsão\"+\"==\"*8+\"Media Real\"+\"==\"*9)\n",
    "print(\"==\"*9+\"{:.2f}\".format(mean_complete)+\"==\"*12+\"{:.2f}\".format(result_completo.mean())+\"==\"*11+\"{:.2f}\".format(y_test_complete.mean()[0])+\"==\"*9)\n",
    "print(\"==\"*51+\"=\")"
   ]
  },
  {
   "cell_type": "markdown",
   "metadata": {},
   "source": [
    "# Resultado Modelo otimizado"
   ]
  },
  {
   "cell_type": "code",
   "execution_count": 39,
   "metadata": {
    "colab": {
     "base_uri": "https://localhost:8080/"
    },
    "id": "QNr5WmFp901c",
    "outputId": "8bdf1dfb-3175-4925-f5ce-fafa334d5681"
   },
   "outputs": [
    {
     "name": "stdout",
     "output_type": "stream",
     "text": [
      "========================================== Modelo Clean ===========================================\n",
      "==================RMSE====================Media Previsão====================Media Real=============\n",
      "================2449.98======================5733.20==========================5376.38==============\n",
      "===================================================================================================\n"
     ]
    }
   ],
   "source": [
    "print(\"=\"*42+\" Modelo Clean \"+\"=\"*42+\"=\")\n",
    "print(\"==\"*9+\"RMSE\"+\"==\"*10+\"Media Previsão\"+\"==\"*10+\"Media Real\"+\"==\"*6+\"=\")\n",
    "print(\"==\"*8+\"{:.2f}\".format(mean_clean)+\"==\"*11+\"{:.2f}\".format(result_clean.mean())+\"==\"*13+\"{:.2f}\".format(y_test_clean.mean()[0])+\"==\"*7)\n",
    "print(\"==\"*49+\"=\")"
   ]
  }
 ],
 "metadata": {
  "colab": {
   "name": "Experimento Simples Seleção de Features.ipynb",
   "provenance": []
  },
  "interpreter": {
   "hash": "5a527db4fa39db47dc193b18f8013a1ebd5f4624fb6662eb4c6b8edafb6e9e59"
  },
  "kernelspec": {
   "display_name": "Python 3.9.7 64-bit ('venv': venv)",
   "name": "python3"
  },
  "language_info": {
   "codemirror_mode": {
    "name": "ipython",
    "version": 3
   },
   "file_extension": ".py",
   "mimetype": "text/x-python",
   "name": "python",
   "nbconvert_exporter": "python",
   "pygments_lexer": "ipython3",
   "version": "3.9.7"
  }
 },
 "nbformat": 4,
 "nbformat_minor": 0
}
