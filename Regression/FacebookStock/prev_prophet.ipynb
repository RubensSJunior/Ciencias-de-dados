{
 "cells": [
  {
   "cell_type": "markdown",
   "metadata": {},
   "source": [
    "# PROPHET"
   ]
  },
  {
   "cell_type": "markdown",
   "metadata": {},
   "source": [
    "### IMPORT DE DEPENDENCIAS"
   ]
  },
  {
   "cell_type": "markdown",
   "metadata": {},
   "source": [
    "A printcipal dependencia  Prophet é uma dependencia baseada no PyStan (Uma Lib que funciona de interface para o uso da biblioteca statistica STAN).\n",
    "\n",
    "#### A instalação do PyStan no Windows (Utilizando Conda) [Tutorial](https://pystan2.readthedocs.io/en/latest/windows.html#installing-c-compiler)\n",
    "\n",
    "Antes da instalação da biblioteca PyStan é necessario instalar as dependências:\n",
    "\n",
    " - Python: 2.7, >=3.3\n",
    " - Cython: >=0.22\n",
    " - NumPy: >=1.7\n",
    "\n",
    "Apos isso é necessario instalar o interpretador C++. A forma mais facil de instalar é atravez do [Miniconda3 Windows 64-bit](https://repo.anaconda.com/miniconda/Miniconda3-latest-Windows-x86_64.exe). Apos a instalação desse pacote rodar o comando para instalar algumas libs: \n",
    "\n",
    "`conda install libpython m2w64-toolchain -c msys2`<br>\n",
    "\n",
    "Em seguida é necessario a criação de o arquivo `distutils.cfg` na pasta `PYTHONPATH\\\\Lib\\\\distutils` com o seguinte texto:\n",
    "\n",
    "`[build]`<br>\n",
    "`compiler=mingw32`\n",
    "\n",
    "Apos a criação é possivel instalar a biblioteca PyStan:\n",
    "\n",
    "`pip install pystan==2.19.1.1`\n",
    "\n",
    "Em seguida pode instalar a biblioteca prophet\n",
    "\n",
    "`conda config --add channels conda-forge`<br>\n",
    "`conda install prophet`\n",
    "\n"
   ]
  },
  {
   "cell_type": "markdown",
   "metadata": {},
   "source": [
    "### IMPORT DE BIBLIOTECA"
   ]
  },
  {
   "cell_type": "code",
   "execution_count": 156,
   "metadata": {},
   "outputs": [],
   "source": [
    "#Import bibliotecas \n",
    "import sys\n",
    "import logging\n",
    "import itertools\n",
    "import numpy as np\n",
    "import pandas as pd\n",
    "import logging, sys\n",
    "import seaborn as sns\n",
    "from prophet import Prophet\n",
    "logging.disable(sys.maxsize)\n",
    "import matplotlib.pyplot as plt\n",
    "from sklearn.metrics import mean_squared_error\n",
    "from sklearn.model_selection import train_test_split\n",
    "logging.getLogger('fbprophet').setLevel(logging.ERROR) "
   ]
  },
  {
   "cell_type": "markdown",
   "metadata": {},
   "source": [
    "### IMPORT DE DATASET"
   ]
  },
  {
   "cell_type": "code",
   "execution_count": 123,
   "metadata": {},
   "outputs": [],
   "source": [
    "df_fb = pd.read_csv(\"./data/FB Historical Data.csv\") #Importando os dados historicos\n",
    "df_fb[\"Date\"] = pd.to_datetime(df_fb[\"Date\"], format=\"%b %d, %Y\") #Convertendo coluna data de STRING para DATETIME"
   ]
  },
  {
   "cell_type": "markdown",
   "metadata": {},
   "source": [
    "# PREVISÃO DE DADOS - UNIVARIAVEL"
   ]
  },
  {
   "cell_type": "markdown",
   "metadata": {},
   "source": [
    "### SEPARANDO DADOS"
   ]
  },
  {
   "cell_type": "code",
   "execution_count": 124,
   "metadata": {},
   "outputs": [],
   "source": [
    "df_uni = df_fb[['Date','Price']] #Selecionando os campos a serem utilizados  \n",
    "df_uni.columns = ['ds','y'] #Alterando os nomes da colunas para o valor padrão exigido pelo modelo\n",
    "df_uni = df_uni.sort_values(by=\"ds\").reset_index(drop=True) #Organizando os valores por data e reindexando o dataset"
   ]
  },
  {
   "cell_type": "markdown",
   "metadata": {},
   "source": [
    "### SEPARAÇÃO DOS DADOS DE TREINO E TESTE"
   ]
  },
  {
   "cell_type": "code",
   "execution_count": 125,
   "metadata": {},
   "outputs": [],
   "source": [
    "#Separando o dataset entre treino e teste\n",
    "train_uni = df_uni[:len(df_uni)-24]\n",
    "test_uni = df_uni[len(df_uni)-24:]"
   ]
  },
  {
   "cell_type": "markdown",
   "metadata": {},
   "source": [
    "### CONFIGURAÇÃO DE GRID DE PARAMETROS"
   ]
  },
  {
   "cell_type": "code",
   "execution_count": 126,
   "metadata": {},
   "outputs": [],
   "source": [
    "# Criação de dicionario de parametros\n",
    "param_grid = {\n",
    "    'changepoint_prior_scale': [0.01, 0.1, 0.5,1],\n",
    "    'seasonality_prior_scale': [0.01, 0.1, 0.5,1],\n",
    "    'seasonality_mode': ['multiplicative','additive'],\n",
    "    'yearly_seasonality': [True,False],\n",
    "    'weekly_seasonality': [True,False]\n",
    "}\n",
    "\n",
    "# Gerando todas combinações de parametros\n",
    "all_params = [dict(zip(param_grid.keys(), v)) for v in itertools.product(*param_grid.values())]\n",
    "rmses = []  # Armazenando os resultados de erro\n",
    "size_params = len(all_params) # Tamanho total da lista de parametros \n",
    "i=0 #Contador da porcentagem"
   ]
  },
  {
   "cell_type": "markdown",
   "metadata": {},
   "source": [
    "### CRIAÇÃO DE MODELOS UNIVARIAVEL E TESTE DE RMSE"
   ]
  },
  {
   "cell_type": "code",
   "execution_count": 127,
   "metadata": {},
   "outputs": [
    {
     "name": "stdout",
     "output_type": "stream",
     "text": [
      "[====================================================================================================] 100%"
     ]
    }
   ],
   "source": [
    "# Recursão que roda o modelo e faz a previsão para cada combinação de parametro\n",
    "for params in all_params:\n",
    "    i = i+1\n",
    "    m = Prophet(**params).fit(train_uni) # Treina o modelo com os parametros com os dados de treino\n",
    "    forecast = m.predict(df_uni[[\"ds\"]]) # Prevendo os valores para as datas futuras \n",
    "    prev = forecast[['ds', 'yhat',]].tail(24) # Selecionando os valores previstos\n",
    "    # Comparando valores previstos com o valor real e obtendo o erro\n",
    "    rmses.append(mean_squared_error(prev[\"yhat\"].reset_index(drop=True),test_uni[\"y\"].reset_index(drop=True)))\n",
    "    percent = int((i/size_params)*100) #percentual ja rodado\n",
    "    sys.stdout.write('\\r'+\"[{}{}] {}%\".format(\"=\"*percent,\" \"*(100-percent),percent)) #Exibindo o percentual do processo finalizado\n",
    "\n",
    "tuning_results_uni = pd.DataFrame(all_params) #Criação de dataframe de resultados\n",
    "tuning_results_uni['rmse'] = rmses #Adicionando os erros ao dataframe de resultados"
   ]
  },
  {
   "cell_type": "markdown",
   "metadata": {},
   "source": [
    "### APRESENTAÇÃO DE RESULTADO DE MODELOS UNIVARIAVEL"
   ]
  },
  {
   "cell_type": "code",
   "execution_count": 128,
   "metadata": {},
   "outputs": [
    {
     "data": {
      "text/html": [
       "<div>\n",
       "<style scoped>\n",
       "    .dataframe tbody tr th:only-of-type {\n",
       "        vertical-align: middle;\n",
       "    }\n",
       "\n",
       "    .dataframe tbody tr th {\n",
       "        vertical-align: top;\n",
       "    }\n",
       "\n",
       "    .dataframe thead th {\n",
       "        text-align: right;\n",
       "    }\n",
       "</style>\n",
       "<table border=\"1\" class=\"dataframe\">\n",
       "  <thead>\n",
       "    <tr style=\"text-align: right;\">\n",
       "      <th></th>\n",
       "      <th>changepoint_prior_scale</th>\n",
       "      <th>seasonality_prior_scale</th>\n",
       "      <th>seasonality_mode</th>\n",
       "      <th>yearly_seasonality</th>\n",
       "      <th>weekly_seasonality</th>\n",
       "      <th>rmse</th>\n",
       "    </tr>\n",
       "  </thead>\n",
       "  <tbody>\n",
       "    <tr>\n",
       "      <th>0</th>\n",
       "      <td>0.5</td>\n",
       "      <td>0.1</td>\n",
       "      <td>additive</td>\n",
       "      <td>True</td>\n",
       "      <td>False</td>\n",
       "      <td>22.827442</td>\n",
       "    </tr>\n",
       "    <tr>\n",
       "      <th>1</th>\n",
       "      <td>1.0</td>\n",
       "      <td>1.0</td>\n",
       "      <td>additive</td>\n",
       "      <td>True</td>\n",
       "      <td>False</td>\n",
       "      <td>22.924209</td>\n",
       "    </tr>\n",
       "    <tr>\n",
       "      <th>2</th>\n",
       "      <td>1.0</td>\n",
       "      <td>0.5</td>\n",
       "      <td>additive</td>\n",
       "      <td>True</td>\n",
       "      <td>True</td>\n",
       "      <td>24.512801</td>\n",
       "    </tr>\n",
       "    <tr>\n",
       "      <th>3</th>\n",
       "      <td>1.0</td>\n",
       "      <td>0.1</td>\n",
       "      <td>additive</td>\n",
       "      <td>True</td>\n",
       "      <td>False</td>\n",
       "      <td>24.774044</td>\n",
       "    </tr>\n",
       "    <tr>\n",
       "      <th>4</th>\n",
       "      <td>1.0</td>\n",
       "      <td>1.0</td>\n",
       "      <td>multiplicative</td>\n",
       "      <td>True</td>\n",
       "      <td>True</td>\n",
       "      <td>25.371197</td>\n",
       "    </tr>\n",
       "    <tr>\n",
       "      <th>5</th>\n",
       "      <td>0.5</td>\n",
       "      <td>1.0</td>\n",
       "      <td>additive</td>\n",
       "      <td>True</td>\n",
       "      <td>True</td>\n",
       "      <td>26.172960</td>\n",
       "    </tr>\n",
       "    <tr>\n",
       "      <th>6</th>\n",
       "      <td>0.5</td>\n",
       "      <td>0.1</td>\n",
       "      <td>additive</td>\n",
       "      <td>True</td>\n",
       "      <td>True</td>\n",
       "      <td>26.795878</td>\n",
       "    </tr>\n",
       "    <tr>\n",
       "      <th>7</th>\n",
       "      <td>1.0</td>\n",
       "      <td>0.5</td>\n",
       "      <td>additive</td>\n",
       "      <td>True</td>\n",
       "      <td>False</td>\n",
       "      <td>29.143747</td>\n",
       "    </tr>\n",
       "    <tr>\n",
       "      <th>8</th>\n",
       "      <td>1.0</td>\n",
       "      <td>0.1</td>\n",
       "      <td>additive</td>\n",
       "      <td>True</td>\n",
       "      <td>True</td>\n",
       "      <td>29.893665</td>\n",
       "    </tr>\n",
       "    <tr>\n",
       "      <th>9</th>\n",
       "      <td>1.0</td>\n",
       "      <td>1.0</td>\n",
       "      <td>additive</td>\n",
       "      <td>True</td>\n",
       "      <td>True</td>\n",
       "      <td>32.960096</td>\n",
       "    </tr>\n",
       "  </tbody>\n",
       "</table>\n",
       "</div>"
      ],
      "text/plain": [
       "   changepoint_prior_scale  seasonality_prior_scale seasonality_mode  \\\n",
       "0                      0.5                      0.1         additive   \n",
       "1                      1.0                      1.0         additive   \n",
       "2                      1.0                      0.5         additive   \n",
       "3                      1.0                      0.1         additive   \n",
       "4                      1.0                      1.0   multiplicative   \n",
       "5                      0.5                      1.0         additive   \n",
       "6                      0.5                      0.1         additive   \n",
       "7                      1.0                      0.5         additive   \n",
       "8                      1.0                      0.1         additive   \n",
       "9                      1.0                      1.0         additive   \n",
       "\n",
       "   yearly_seasonality  weekly_seasonality       rmse  \n",
       "0                True               False  22.827442  \n",
       "1                True               False  22.924209  \n",
       "2                True                True  24.512801  \n",
       "3                True               False  24.774044  \n",
       "4                True                True  25.371197  \n",
       "5                True                True  26.172960  \n",
       "6                True                True  26.795878  \n",
       "7                True               False  29.143747  \n",
       "8                True                True  29.893665  \n",
       "9                True                True  32.960096  "
      ]
     },
     "execution_count": 128,
     "metadata": {},
     "output_type": "execute_result"
    }
   ],
   "source": [
    "# 10 Melhores combinações de modelo \n",
    "tuning_results_uni.sort_values(by=\"rmse\").reset_index(drop=True).head(10)"
   ]
  },
  {
   "cell_type": "markdown",
   "metadata": {},
   "source": [
    "# PREVISÃO DE DADOS - MULTIVARIAVEL"
   ]
  },
  {
   "cell_type": "markdown",
   "metadata": {},
   "source": [
    "### SEPARANDO DADOS MULTIVARIAVEIS"
   ]
  },
  {
   "cell_type": "code",
   "execution_count": 160,
   "metadata": {},
   "outputs": [],
   "source": [
    "df_multi = df_fb[['Date', 'Price', 'Open', 'High', 'Low']]\n",
    "df_multi.columns = ['ds', 'y', 'Open', 'High', 'Low']\n",
    "df_multi = df_multi[['ds', 'y', 'Open', 'High', 'Low']].sort_values(by=\"ds\").reset_index(drop=True)"
   ]
  },
  {
   "cell_type": "markdown",
   "metadata": {},
   "source": [
    "### ATRASANDO VARIAVEIS PARA UTILIZAÇÃO COM FEATURES DO MODELO"
   ]
  },
  {
   "cell_type": "code",
   "execution_count": 161,
   "metadata": {},
   "outputs": [],
   "source": [
    "df_multi['Open_shift'] = df_multi['Open'].shift(1)\n",
    "df_multi['High_shift'] = df_multi['High'].shift(1)\n",
    "df_multi['Low_shift'] = df_multi['Low'].shift(1)\n"
   ]
  },
  {
   "cell_type": "markdown",
   "metadata": {},
   "source": [
    "### DATASET DEPOIS DO ATRASO"
   ]
  },
  {
   "cell_type": "code",
   "execution_count": 164,
   "metadata": {},
   "outputs": [
    {
     "data": {
      "text/html": [
       "<div>\n",
       "<style scoped>\n",
       "    .dataframe tbody tr th:only-of-type {\n",
       "        vertical-align: middle;\n",
       "    }\n",
       "\n",
       "    .dataframe tbody tr th {\n",
       "        vertical-align: top;\n",
       "    }\n",
       "\n",
       "    .dataframe thead th {\n",
       "        text-align: right;\n",
       "    }\n",
       "</style>\n",
       "<table border=\"1\" class=\"dataframe\">\n",
       "  <thead>\n",
       "    <tr style=\"text-align: right;\">\n",
       "      <th></th>\n",
       "      <th>ds</th>\n",
       "      <th>y</th>\n",
       "      <th>Open</th>\n",
       "      <th>High</th>\n",
       "      <th>Low</th>\n",
       "      <th>Open_shift</th>\n",
       "      <th>High_shift</th>\n",
       "      <th>Low_shift</th>\n",
       "    </tr>\n",
       "  </thead>\n",
       "  <tbody>\n",
       "    <tr>\n",
       "      <th>0</th>\n",
       "      <td>2019-01-02</td>\n",
       "      <td>135.68</td>\n",
       "      <td>128.99</td>\n",
       "      <td>137.51</td>\n",
       "      <td>128.56</td>\n",
       "      <td>NaN</td>\n",
       "      <td>NaN</td>\n",
       "      <td>NaN</td>\n",
       "    </tr>\n",
       "    <tr>\n",
       "      <th>1</th>\n",
       "      <td>2019-01-03</td>\n",
       "      <td>131.74</td>\n",
       "      <td>134.69</td>\n",
       "      <td>137.17</td>\n",
       "      <td>131.12</td>\n",
       "      <td>128.99</td>\n",
       "      <td>137.51</td>\n",
       "      <td>128.56</td>\n",
       "    </tr>\n",
       "    <tr>\n",
       "      <th>2</th>\n",
       "      <td>2019-01-04</td>\n",
       "      <td>137.95</td>\n",
       "      <td>134.01</td>\n",
       "      <td>138.00</td>\n",
       "      <td>133.75</td>\n",
       "      <td>134.69</td>\n",
       "      <td>137.17</td>\n",
       "      <td>131.12</td>\n",
       "    </tr>\n",
       "    <tr>\n",
       "      <th>3</th>\n",
       "      <td>2019-01-07</td>\n",
       "      <td>138.05</td>\n",
       "      <td>137.56</td>\n",
       "      <td>138.87</td>\n",
       "      <td>135.91</td>\n",
       "      <td>134.01</td>\n",
       "      <td>138.00</td>\n",
       "      <td>133.75</td>\n",
       "    </tr>\n",
       "    <tr>\n",
       "      <th>4</th>\n",
       "      <td>2019-01-08</td>\n",
       "      <td>142.53</td>\n",
       "      <td>139.89</td>\n",
       "      <td>143.14</td>\n",
       "      <td>139.54</td>\n",
       "      <td>137.56</td>\n",
       "      <td>138.87</td>\n",
       "      <td>135.91</td>\n",
       "    </tr>\n",
       "    <tr>\n",
       "      <th>5</th>\n",
       "      <td>2019-01-09</td>\n",
       "      <td>144.23</td>\n",
       "      <td>142.95</td>\n",
       "      <td>144.70</td>\n",
       "      <td>141.27</td>\n",
       "      <td>139.89</td>\n",
       "      <td>143.14</td>\n",
       "      <td>139.54</td>\n",
       "    </tr>\n",
       "    <tr>\n",
       "      <th>6</th>\n",
       "      <td>2019-01-10</td>\n",
       "      <td>144.20</td>\n",
       "      <td>143.08</td>\n",
       "      <td>144.56</td>\n",
       "      <td>140.84</td>\n",
       "      <td>142.95</td>\n",
       "      <td>144.70</td>\n",
       "      <td>141.27</td>\n",
       "    </tr>\n",
       "    <tr>\n",
       "      <th>7</th>\n",
       "      <td>2019-01-11</td>\n",
       "      <td>143.80</td>\n",
       "      <td>143.15</td>\n",
       "      <td>145.36</td>\n",
       "      <td>142.57</td>\n",
       "      <td>143.08</td>\n",
       "      <td>144.56</td>\n",
       "      <td>140.84</td>\n",
       "    </tr>\n",
       "    <tr>\n",
       "      <th>8</th>\n",
       "      <td>2019-01-14</td>\n",
       "      <td>145.39</td>\n",
       "      <td>142.00</td>\n",
       "      <td>146.57</td>\n",
       "      <td>141.27</td>\n",
       "      <td>143.15</td>\n",
       "      <td>145.36</td>\n",
       "      <td>142.57</td>\n",
       "    </tr>\n",
       "    <tr>\n",
       "      <th>9</th>\n",
       "      <td>2019-01-15</td>\n",
       "      <td>148.95</td>\n",
       "      <td>146.01</td>\n",
       "      <td>150.68</td>\n",
       "      <td>145.99</td>\n",
       "      <td>142.00</td>\n",
       "      <td>146.57</td>\n",
       "      <td>141.27</td>\n",
       "    </tr>\n",
       "  </tbody>\n",
       "</table>\n",
       "</div>"
      ],
      "text/plain": [
       "          ds       y    Open    High     Low  Open_shift  High_shift  \\\n",
       "0 2019-01-02  135.68  128.99  137.51  128.56         NaN         NaN   \n",
       "1 2019-01-03  131.74  134.69  137.17  131.12      128.99      137.51   \n",
       "2 2019-01-04  137.95  134.01  138.00  133.75      134.69      137.17   \n",
       "3 2019-01-07  138.05  137.56  138.87  135.91      134.01      138.00   \n",
       "4 2019-01-08  142.53  139.89  143.14  139.54      137.56      138.87   \n",
       "5 2019-01-09  144.23  142.95  144.70  141.27      139.89      143.14   \n",
       "6 2019-01-10  144.20  143.08  144.56  140.84      142.95      144.70   \n",
       "7 2019-01-11  143.80  143.15  145.36  142.57      143.08      144.56   \n",
       "8 2019-01-14  145.39  142.00  146.57  141.27      143.15      145.36   \n",
       "9 2019-01-15  148.95  146.01  150.68  145.99      142.00      146.57   \n",
       "\n",
       "   Low_shift  \n",
       "0        NaN  \n",
       "1     128.56  \n",
       "2     131.12  \n",
       "3     133.75  \n",
       "4     135.91  \n",
       "5     139.54  \n",
       "6     141.27  \n",
       "7     140.84  \n",
       "8     142.57  \n",
       "9     141.27  "
      ]
     },
     "execution_count": 164,
     "metadata": {},
     "output_type": "execute_result"
    }
   ],
   "source": [
    "df_multi.head(10)"
   ]
  },
  {
   "cell_type": "markdown",
   "metadata": {},
   "source": [
    "### SELECIONADO COLUNAS PARA O MODELO"
   ]
  },
  {
   "cell_type": "code",
   "execution_count": null,
   "metadata": {},
   "outputs": [],
   "source": [
    "df_multi = df_multi.dropna().reset_index(drop=True)\n",
    "df_multi = df_multi[['ds', 'y', 'Open_shift', 'High_shift', 'Low_shift']]"
   ]
  },
  {
   "cell_type": "markdown",
   "metadata": {},
   "source": [
    "### SEPARAÇÃO DOS DADOS DE TREINO E TESTE"
   ]
  },
  {
   "cell_type": "code",
   "execution_count": 131,
   "metadata": {},
   "outputs": [],
   "source": [
    "train_multi = df_multi[:len(df_multi)-24] \n",
    "test_multi = df_multi[len(df_multi)-24:]"
   ]
  },
  {
   "cell_type": "markdown",
   "metadata": {},
   "source": [
    "### CONFIGURAÇÃO DE GRID DE PARAMETROS"
   ]
  },
  {
   "cell_type": "code",
   "execution_count": 132,
   "metadata": {},
   "outputs": [],
   "source": [
    "# Criação de dicionario de parametros\n",
    "param_grid = {\n",
    "    'changepoint_prior_scale': [0.01, 0.1, 0.5,1],\n",
    "    'seasonality_prior_scale': [0.01, 0.1, 0.5,1],\n",
    "    'seasonality_mode': ['multiplicative','additive'],\n",
    "    'yearly_seasonality': [True,False],\n",
    "    'weekly_seasonality': [True,False]\n",
    "}\n",
    "\n",
    "# Gerando todas combinações de parametros\n",
    "all_params = [dict(zip(param_grid.keys(), v)) for v in itertools.product(*param_grid.values())]\n",
    "rmses = []  # Armazenando os resultados de erro\n",
    "size_params = len(all_params) # Tamanho total da lista de parametros \n",
    "i=0 #Contador da porcentagem"
   ]
  },
  {
   "cell_type": "markdown",
   "metadata": {},
   "source": [
    "### CRIAÇÃO DE MODELOS MULTIVARIAVEIS E TESTE DE RMSE"
   ]
  },
  {
   "cell_type": "code",
   "execution_count": null,
   "metadata": {},
   "outputs": [],
   "source": [
    "# Recursão que roda o modelo e faz a previsão para cada combinação de parametro\n",
    "for params in all_params:\n",
    "    i = i+1\n",
    "    m = Prophet(**params)\n",
    "    m.add_regressor(\"Open_shift\")\n",
    "    m.add_regressor(\"High_shift\")\n",
    "    m.add_regressor(\"Low_shift\")\n",
    "    m.fit(train_multi) # Treina o modelo com os parametros com os dados de treino\n",
    "    forecast = m.predict(df_multi[[\"ds\",'Open_shift','High_shift','Low_shift']]) # Prevendo os valores para as datas futuras \n",
    "    prev_multi = forecast[['ds', 'yhat',]].tail(24) # Selecionando os valores previstos\n",
    "    # Comparando valores previstos com o valor real e obtendo o erro\n",
    "    rmses.append(mean_squared_error(prev_multi[\"yhat\"].reset_index(drop=True),test_multi[\"y\"].reset_index(drop=True)))\n",
    "    percent = int((i/size_params)*100) #percentual ja rodado\n",
    "    sys.stdout.write('\\r'+\"[{}{}] {}%\".format(\"=\"*percent,\" \"*(100-percent),percent)) #Exibindo o percentual do processo finalizado\n",
    "\n",
    "tuning_results_multi = pd.DataFrame(all_params) #Criação de dataframe de resultados\n",
    "tuning_results_multi['rmse'] = rmses #Adicionando os erros ao dataframe de resultados"
   ]
  },
  {
   "cell_type": "markdown",
   "metadata": {},
   "source": [
    "### APRESENTAÇÃO DE RESULTADO DE MODELOS MULTIVARIAVEL"
   ]
  },
  {
   "cell_type": "code",
   "execution_count": 142,
   "metadata": {},
   "outputs": [
    {
     "data": {
      "text/html": [
       "<div>\n",
       "<style scoped>\n",
       "    .dataframe tbody tr th:only-of-type {\n",
       "        vertical-align: middle;\n",
       "    }\n",
       "\n",
       "    .dataframe tbody tr th {\n",
       "        vertical-align: top;\n",
       "    }\n",
       "\n",
       "    .dataframe thead th {\n",
       "        text-align: right;\n",
       "    }\n",
       "</style>\n",
       "<table border=\"1\" class=\"dataframe\">\n",
       "  <thead>\n",
       "    <tr style=\"text-align: right;\">\n",
       "      <th></th>\n",
       "      <th>changepoint_prior_scale</th>\n",
       "      <th>seasonality_prior_scale</th>\n",
       "      <th>seasonality_mode</th>\n",
       "      <th>yearly_seasonality</th>\n",
       "      <th>weekly_seasonality</th>\n",
       "      <th>rmse</th>\n",
       "    </tr>\n",
       "  </thead>\n",
       "  <tbody>\n",
       "    <tr>\n",
       "      <th>0</th>\n",
       "      <td>0.1</td>\n",
       "      <td>0.01</td>\n",
       "      <td>additive</td>\n",
       "      <td>True</td>\n",
       "      <td>False</td>\n",
       "      <td>14.361732</td>\n",
       "    </tr>\n",
       "    <tr>\n",
       "      <th>1</th>\n",
       "      <td>0.1</td>\n",
       "      <td>0.10</td>\n",
       "      <td>additive</td>\n",
       "      <td>True</td>\n",
       "      <td>False</td>\n",
       "      <td>14.381641</td>\n",
       "    </tr>\n",
       "    <tr>\n",
       "      <th>2</th>\n",
       "      <td>0.1</td>\n",
       "      <td>1.00</td>\n",
       "      <td>additive</td>\n",
       "      <td>True</td>\n",
       "      <td>False</td>\n",
       "      <td>14.419311</td>\n",
       "    </tr>\n",
       "    <tr>\n",
       "      <th>3</th>\n",
       "      <td>0.1</td>\n",
       "      <td>0.50</td>\n",
       "      <td>additive</td>\n",
       "      <td>True</td>\n",
       "      <td>False</td>\n",
       "      <td>14.430338</td>\n",
       "    </tr>\n",
       "    <tr>\n",
       "      <th>4</th>\n",
       "      <td>0.1</td>\n",
       "      <td>0.10</td>\n",
       "      <td>additive</td>\n",
       "      <td>True</td>\n",
       "      <td>True</td>\n",
       "      <td>14.458898</td>\n",
       "    </tr>\n",
       "    <tr>\n",
       "      <th>5</th>\n",
       "      <td>0.1</td>\n",
       "      <td>0.01</td>\n",
       "      <td>additive</td>\n",
       "      <td>True</td>\n",
       "      <td>True</td>\n",
       "      <td>14.494070</td>\n",
       "    </tr>\n",
       "    <tr>\n",
       "      <th>6</th>\n",
       "      <td>0.1</td>\n",
       "      <td>1.00</td>\n",
       "      <td>additive</td>\n",
       "      <td>True</td>\n",
       "      <td>True</td>\n",
       "      <td>14.513579</td>\n",
       "    </tr>\n",
       "    <tr>\n",
       "      <th>7</th>\n",
       "      <td>0.1</td>\n",
       "      <td>0.50</td>\n",
       "      <td>additive</td>\n",
       "      <td>True</td>\n",
       "      <td>True</td>\n",
       "      <td>14.516945</td>\n",
       "    </tr>\n",
       "    <tr>\n",
       "      <th>8</th>\n",
       "      <td>0.1</td>\n",
       "      <td>0.10</td>\n",
       "      <td>multiplicative</td>\n",
       "      <td>True</td>\n",
       "      <td>False</td>\n",
       "      <td>14.710603</td>\n",
       "    </tr>\n",
       "    <tr>\n",
       "      <th>9</th>\n",
       "      <td>0.1</td>\n",
       "      <td>1.00</td>\n",
       "      <td>multiplicative</td>\n",
       "      <td>True</td>\n",
       "      <td>False</td>\n",
       "      <td>14.715370</td>\n",
       "    </tr>\n",
       "  </tbody>\n",
       "</table>\n",
       "</div>"
      ],
      "text/plain": [
       "   changepoint_prior_scale  seasonality_prior_scale seasonality_mode  \\\n",
       "0                      0.1                     0.01         additive   \n",
       "1                      0.1                     0.10         additive   \n",
       "2                      0.1                     1.00         additive   \n",
       "3                      0.1                     0.50         additive   \n",
       "4                      0.1                     0.10         additive   \n",
       "5                      0.1                     0.01         additive   \n",
       "6                      0.1                     1.00         additive   \n",
       "7                      0.1                     0.50         additive   \n",
       "8                      0.1                     0.10   multiplicative   \n",
       "9                      0.1                     1.00   multiplicative   \n",
       "\n",
       "   yearly_seasonality  weekly_seasonality       rmse  \n",
       "0                True               False  14.361732  \n",
       "1                True               False  14.381641  \n",
       "2                True               False  14.419311  \n",
       "3                True               False  14.430338  \n",
       "4                True                True  14.458898  \n",
       "5                True                True  14.494070  \n",
       "6                True                True  14.513579  \n",
       "7                True                True  14.516945  \n",
       "8                True               False  14.710603  \n",
       "9                True               False  14.715370  "
      ]
     },
     "execution_count": 142,
     "metadata": {},
     "output_type": "execute_result"
    }
   ],
   "source": [
    "# 10 Melhores combinações de modelos Multivariavel\n",
    "tuning_results_multi.sort_values(by=\"rmse\").reset_index(drop=True).head(10)"
   ]
  },
  {
   "cell_type": "markdown",
   "metadata": {},
   "source": [
    "# RESULTADOS"
   ]
  },
  {
   "cell_type": "markdown",
   "metadata": {},
   "source": [
    "## Comparação de resultados de melhores modelos."
   ]
  },
  {
   "cell_type": "markdown",
   "metadata": {},
   "source": [
    "### MODELO UNIVARIAVEL COM MELHORES PARAMETROS"
   ]
  },
  {
   "cell_type": "code",
   "execution_count": 143,
   "metadata": {},
   "outputs": [],
   "source": [
    "m = Prophet(changepoint_prior_scale=0.5,\n",
    "    seasonality_prior_scale= 0.01,seasonality_mode= 'additive', yearly_seasonality= False).fit(train_uni)\n",
    "forecast = m.predict(df_uni[[\"ds\"]]) # Prevendo os valores para as datas futuras\n",
    "prev_uni = forecast[['ds', 'yhat',]].tail(24) # Selecionando os valores previstos"
   ]
  },
  {
   "cell_type": "markdown",
   "metadata": {},
   "source": [
    "### MODELO MULTIVARIAVEL COM MELHORES PARAMETROS"
   ]
  },
  {
   "cell_type": "code",
   "execution_count": 144,
   "metadata": {},
   "outputs": [],
   "source": [
    "m = Prophet(changepoint_prior_scale=0.1,\n",
    "    seasonality_prior_scale= 0.1, seasonality_mode = 'additive', \n",
    "    yearly_seasonality= True, weekly_seasonality=False)\n",
    "m.add_regressor(\"Open_shift\")\n",
    "m.add_regressor(\"High_shift\")\n",
    "m.add_regressor(\"Low_shift\")\n",
    "m.fit(train_multi) # Treina o modelo com os parametros com os dados de treino\n",
    "forecast = m.predict(df_multi[[\"ds\",'Open_shift','High_shift','Low_shift']]) # Prevendo os valores para as datas futuras\n",
    "prev_multi = forecast[['ds', 'yhat',]].tail(24) # Selecionando os valores previstos"
   ]
  },
  {
   "cell_type": "markdown",
   "metadata": {},
   "source": [
    "## PLOT DE PREVISÃO"
   ]
  },
  {
   "cell_type": "code",
   "execution_count": 155,
   "metadata": {},
   "outputs": [
    {
     "data": {
      "text/plain": [
       "<AxesSubplot:xlabel='ds', ylabel='yhat'>"
      ]
     },
     "execution_count": 155,
     "metadata": {},
     "output_type": "execute_result"
    },
    {
     "data": {
      "image/png": "[encoded data removed]",
      "text/plain": [
       "<Figure size 1800x720 with 1 Axes>"
      ]
     },
     "metadata": {
      "needs_background": "light"
     },
     "output_type": "display_data"
    }
   ],
   "source": [
    "fig,ax = plt.subplots(figsize=(25,10))\n",
    "sns.lineplot(x=prev_uni['ds'],y=prev_uni[\"yhat\"],label=\"Previsão modelo Univariavel\")\n",
    "sns.lineplot(x=prev_multi['ds'],y=prev_multi[\"yhat\"],label=\"Previsão modelo Multivariavel\")\n",
    "sns.lineplot(x=test_multi['ds'],y=test_multi[\"y\"],label=\"Resultado\")"
   ]
  },
  {
   "cell_type": "code",
   "execution_count": null,
   "metadata": {},
   "outputs": [],
   "source": []
  }
 ],
 "metadata": {
  "interpreter": {
   "hash": "dfcbc1b5d333849507957c6c6674f4c44f5aceabf06e98221652757e7c72bbcb"
  },
  "kernelspec": {
   "display_name": "Python 3.9.7 64-bit",
   "language": "python",
   "name": "python3"
  },
  "language_info": {
   "codemirror_mode": {
    "name": "ipython",
    "version": 3
   },
   "file_extension": ".py",
   "mimetype": "text/x-python",
   "name": "python",
   "nbconvert_exporter": "python",
   "pygments_lexer": "ipython3",
   "version": "3.9.5"
  },
  "orig_nbformat": 4
 },
 "nbformat": 4,
 "nbformat_minor": 2
}
